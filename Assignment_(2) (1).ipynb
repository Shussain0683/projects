{
 "cells": [
  {
   "cell_type": "markdown",
   "metadata": {},
   "source": [
    "# The ABC company has hired you as an intern on the coding team that creates e-commerce applications.  \n",
    "You must write a script that asks the user for a value. The value must be used as a whole number in a calculation, even if the user enters a decimal value. \n",
    "\n",
    "You need to write the code to meet the requirements."
   ]
  },
  {
   "cell_type": "code",
   "execution_count": 2,
   "metadata": {},
   "outputs": [
    {
     "name": "stdout",
     "output_type": "stream",
     "text": [
      "Enter Numbers of items 56\n"
     ]
    }
   ],
   "source": [
    "I=float(input(\"Enter Numbers of items \"))"
   ]
  },
  {
   "cell_type": "code",
   "execution_count": 4,
   "metadata": {},
   "outputs": [
    {
     "name": "stdout",
     "output_type": "stream",
     "text": [
      "Thank you shopping for shoping  56 items\n"
     ]
    }
   ],
   "source": [
    "print(\"Thank you shopping for shoping \",56,\"items\")"
   ]
  },
  {
   "cell_type": "markdown",
   "metadata": {},
   "source": [
    "# You are creating a Python program that shows a congratulation message to employees on their service anniversary.\n",
    "You need to calculate the number of years of service and print a congratulatory message."
   ]
  },
  {
   "cell_type": "code",
   "execution_count": 11,
   "metadata": {},
   "outputs": [
    {
     "name": "stdout",
     "output_type": "stream",
     "text": [
      "Enter the year of joining 1990\n"
     ]
    }
   ],
   "source": [
    "s=int(input(\"Enter the year of joining \"))"
   ]
  },
  {
   "cell_type": "code",
   "execution_count": 12,
   "metadata": {},
   "outputs": [
    {
     "name": "stdout",
     "output_type": "stream",
     "text": [
      "Enter the year of Retirment 2019\n"
     ]
    }
   ],
   "source": [
    "e=int(input(\"Enter the year of Retirment \"))"
   ]
  },
  {
   "cell_type": "code",
   "execution_count": 14,
   "metadata": {},
   "outputs": [
    {
     "name": "stdout",
     "output_type": "stream",
     "text": [
      "Congratulation this is your  29  Anniversity in company\n"
     ]
    }
   ],
   "source": [
    "c=e-s\n",
    "print(\"Congratulation this is your \",c,\" Anniversity in company\")"
   ]
  },
  {
   "cell_type": "markdown",
   "metadata": {},
   "source": [
    "# Write a Python program to convert temperatures  from fahrenheit to celsius, \n",
    "#step 1: take \"fahrenheit Temperature\" from user in integer data type\n",
    "#step 2: apply formula that is       (  C = (5/9) * (fahrenheit_temperature - 32)  )\n",
    "#step 3: print step 2. "
   ]
  },
  {
   "cell_type": "code",
   "execution_count": 18,
   "metadata": {},
   "outputs": [
    {
     "name": "stdout",
     "output_type": "stream",
     "text": [
      "Enter the value of fahrenheit 66\n"
     ]
    }
   ],
   "source": [
    "f=int(input(\"Enter the value of fahrenheit \"))"
   ]
  },
  {
   "cell_type": "code",
   "execution_count": 19,
   "metadata": {},
   "outputs": [],
   "source": [
    "c=(5/9)*(f-32)"
   ]
  },
  {
   "cell_type": "code",
   "execution_count": 24,
   "metadata": {},
   "outputs": [
    {
     "name": "stdout",
     "output_type": "stream",
     "text": [
      "celsius  18.88888888888889\n"
     ]
    }
   ],
   "source": [
    "print(\"celsius \",c)"
   ]
  },
  {
   "cell_type": "markdown",
   "metadata": {},
   "source": [
    "<h3>assign a vlue to grade by checking the following conditions:: </h3>\n",
    "<h3>if % is greater then and equal to 90 and less then 100 grade is A+ </h3>\n",
    "<h3>if % is greater then and equal to 80 and less then 90 grade is A </h3>\n",
    "<h3>if % is greater then and equal to 70 and less then 80 grade is B </h3>\n",
    "<h3>if % is greater then and equal to 60 and less then 70 grade is C </h3>\n",
    "<h3>if % is less than 60 grade is FAIL </h3>\n"
   ]
  },
  {
   "cell_type": "code",
   "execution_count": 36,
   "metadata": {},
   "outputs": [
    {
     "name": "stdout",
     "output_type": "stream",
     "text": [
      "Enter the marks of Math90\n",
      "Enter the marks of chemistry70\n",
      "Enter the marks of Data base60\n",
      "Enter the marks of Assembly_Language70\n",
      "obtain marks are  290\n",
      "percentage is  72.5\n"
     ]
    }
   ],
   "source": [
    "MATH=int(input(\"Enter the marks of Math\"))\n",
    "chemistry=int(input(\"Enter the marks of chemistry\"))\n",
    "database=int(input(\"Enter the marks of Data base\"))\n",
    "Assembly=int(input(\"Enter the marks of Assembly_Language\"))\n",
    "obtain=MATH+chemistry+database+Assembly\n",
    "print(\"obtain marks are \",obtain)\n",
    "P=(obtain/400)*100\n",
    "print(\"percentage is \",P)\n",
    "if P>=90 and P<100:\n",
    "    grade=\"A1\"\n",
    "if P>=80 and P<90:\n",
    "    grade=\"A\"\n",
    "if P>=70 and P<80:\n",
    "    grade=\"B\"\n",
    "if P>=60 and P<70:\n",
    "    grade=\"c\"\n",
    "if P<60:\n",
    "    grade=\"fail\""
   ]
  },
  {
   "cell_type": "code",
   "execution_count": null,
   "metadata": {},
   "outputs": [],
   "source": []
  },
  {
   "cell_type": "code",
   "execution_count": null,
   "metadata": {},
   "outputs": [],
   "source": []
  },
  {
   "cell_type": "markdown",
   "metadata": {},
   "source": [
    "<h3>Print grade percentage and obtained marks</h3>"
   ]
  },
  {
   "cell_type": "code",
   "execution_count": 37,
   "metadata": {},
   "outputs": [
    {
     "name": "stdout",
     "output_type": "stream",
     "text": [
      "Obtain marks is  290 \n",
      "percentage is  72.5 \n",
      "Grade is  B\n"
     ]
    }
   ],
   "source": [
    "print(\"Obtain marks is \",obtain,\"\\npercentage is \",P,\"\\nGrade is \",grade)"
   ]
  },
  {
   "cell_type": "code",
   "execution_count": null,
   "metadata": {},
   "outputs": [],
   "source": []
  }
 ],
 "metadata": {
  "kernelspec": {
   "display_name": "Python 3",
   "language": "python",
   "name": "python3"
  },
  "language_info": {
   "codemirror_mode": {
    "name": "ipython",
    "version": 3
   },
   "file_extension": ".py",
   "mimetype": "text/x-python",
   "name": "python",
   "nbconvert_exporter": "python",
   "pygments_lexer": "ipython3",
   "version": "3.7.3"
  }
 },
 "nbformat": 4,
 "nbformat_minor": 2
}
